{
 "cells": [
  {
   "cell_type": "markdown",
   "id": "83185c79-6618-4d98-b614-77c7920c2866",
   "metadata": {
    "tags": []
   },
   "source": [
    "# Data Science Tools and Ecosystem"
   ]
  },
  {
   "cell_type": "markdown",
   "id": "d89cd19a-248d-4f48-91c4-70fe402b3d01",
   "metadata": {},
   "source": [
    "In this notebook, Data Science Tools and Ecosystem are summarized."
   ]
  },
  {
   "cell_type": "markdown",
   "id": "a6e2cb61-7b98-4909-8a24-e1e68576dc57",
   "metadata": {},
   "source": [
    "**Objectives:**"
   ]
  },
  {
   "cell_type": "markdown",
   "id": "fadd6155-fed0-4431-864c-d330c8b22cb1",
   "metadata": {
    "tags": []
   },
   "source": [
    "* List popular languages for Data Science\n",
    "* List popular libraries used by Data Science"
   ]
  },
  {
   "cell_type": "markdown",
   "id": "5a007cf4-b45f-4282-822e-456d98f504af",
   "metadata": {},
   "source": [
    "Some of the popular languages that Data Scientists use are:"
   ]
  },
  {
   "cell_type": "markdown",
   "id": "6741a88c-c091-4349-bd87-d3e44281ab33",
   "metadata": {},
   "source": [
    "1. R\n",
    "2. Python\n",
    "3. Julia\n",
    "4. Java"
   ]
  },
  {
   "cell_type": "markdown",
   "id": "e3d84f12-0338-4686-aa7c-50b7277edbcd",
   "metadata": {},
   "source": [
    "Some of the commonly used libraries used by Data Scientists include:"
   ]
  },
  {
   "cell_type": "markdown",
   "id": "f82cfa3c-f8e5-43be-8f65-e33fb1e20bb0",
   "metadata": {},
   "source": [
    "1. NumPy\n",
    "2. Pandas\n",
    "3. SciPy"
   ]
  },
  {
   "cell_type": "markdown",
   "id": "4c640a60-905d-48b6-9c81-8edfb196765a",
   "metadata": {},
   "source": [
    "### Below are a few examples of evaluating arithmetic expressions in Python"
   ]
  },
  {
   "cell_type": "markdown",
   "id": "e7b1d95e-77e1-4c24-a36e-a18d2d42ae91",
   "metadata": {},
   "source": [
    "This a simple arithmetic expression to mutiply then add integers"
   ]
  },
  {
   "cell_type": "markdown",
   "id": "6b180029-5c09-40ab-9570-820b4e8da4a6",
   "metadata": {},
   "source": [
    "(3*4)+5"
   ]
  },
  {
   "cell_type": "code",
   "execution_count": 4,
   "id": "06749ce8-c06b-4d9e-9aa5-96d79ba30c7b",
   "metadata": {
    "tags": []
   },
   "outputs": [
    {
     "data": {
      "text/plain": [
       "17"
      ]
     },
     "execution_count": 4,
     "metadata": {},
     "output_type": "execute_result"
    }
   ],
   "source": [
    "(3*4)+5"
   ]
  },
  {
   "cell_type": "markdown",
   "id": "c530bc35-be08-41ef-bb5d-62ccc1ab16cc",
   "metadata": {
    "tags": []
   },
   "source": [
    "This will convert 200 minutes to hours by diving by 60"
   ]
  },
  {
   "cell_type": "markdown",
   "id": "61acde95-7bdb-44a7-9e29-7f97ead37f7c",
   "metadata": {
    "tags": []
   },
   "source": [
    "200/60"
   ]
  },
  {
   "cell_type": "code",
   "execution_count": 3,
   "id": "cdd342a5-563c-44cf-ac57-f15c769ca2bc",
   "metadata": {
    "tags": []
   },
   "outputs": [
    {
     "data": {
      "text/plain": [
       "3.3333333333333335"
      ]
     },
     "execution_count": 3,
     "metadata": {},
     "output_type": "execute_result"
    }
   ],
   "source": [
    "200/60"
   ]
  },
  {
   "cell_type": "markdown",
   "id": "20920388-ac1e-4193-82e2-85a16cb9b4eb",
   "metadata": {
    "tags": []
   },
   "source": [
    "## Author\n",
    "Julián Ramiro Sánchez"
   ]
  },
  {
   "cell_type": "code",
   "execution_count": null,
   "id": "6208d728-b6dc-4879-8bd2-e816299ee995",
   "metadata": {},
   "outputs": [],
   "source": []
  }
 ],
 "metadata": {
  "kernelspec": {
   "display_name": "Python",
   "language": "python",
   "name": "conda-env-python-py"
  },
  "language_info": {
   "codemirror_mode": {
    "name": "ipython",
    "version": 3
   },
   "file_extension": ".py",
   "mimetype": "text/x-python",
   "name": "python",
   "nbconvert_exporter": "python",
   "pygments_lexer": "ipython3",
   "version": "3.7.12"
  }
 },
 "nbformat": 4,
 "nbformat_minor": 5
}
